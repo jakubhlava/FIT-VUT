{
 "cells": [
  {
   "cell_type": "markdown",
   "metadata": {
    "collapsed": false,
    "pycharm": {
     "name": "#%% md\n"
    }
   },
   "source": [
    "# Hypotéza 1\n",
    "*Na silnicích první třídy se při nehodách umíralo se stejnou pravděpodobností jako na dálnicích.*\n",
    "\n",
    "Pro řešení používáme chí-kvadrát test, nulová a alternativní hypotéza tedy budou:\n",
    "- H0: Počet úmrtí při nehodách nezávisí na třídě silnice.\n",
    "- H1: Počet úmrtí při nehodách závisí na třídě silnice."
   ]
  },
  {
   "cell_type": "markdown",
   "metadata": {
    "collapsed": false,
    "pycharm": {
     "name": "#%% md\n"
    }
   },
   "source": [
    "Pro výpočet využijeme knihovny `pandas`, `numpy` a `scipy.stats`."
   ]
  },
  {
   "cell_type": "code",
   "execution_count": null,
   "metadata": {
    "collapsed": false,
    "pycharm": {
     "name": "#%%\n"
    }
   },
   "outputs": [],
   "source": [
    "import numpy as np\n",
    "import pandas as pd\n",
    "import scipy.stats"
   ]
  },
  {
   "cell_type": "markdown",
   "metadata": {
    "collapsed": false,
    "pycharm": {
     "name": "#%% md\n"
    }
   },
   "source": [
    "Načteme si předpřipravený `DataFrame`"
   ]
  },
  {
   "cell_type": "code",
   "execution_count": null,
   "metadata": {
    "collapsed": false,
    "pycharm": {
     "name": "#%%\n"
    }
   },
   "outputs": [],
   "source": [
    "df = pd.read_pickle(\"accidents.pkl.gz\")"
   ]
  },
  {
   "cell_type": "markdown",
   "metadata": {
    "collapsed": false,
    "pycharm": {
     "name": "#%% md\n"
    }
   },
   "source": [
    "Z dataframu vyfiltrujeme nehody mimo dálnice a silnice první třídy (položka `p36`), vybereme do nového dataframu\n",
    "a převedeme položku `p13a` na informaci, zda nehoda byla smrtelná nebo ne."
   ]
  },
  {
   "cell_type": "code",
   "execution_count": null,
   "metadata": {
    "collapsed": false,
    "pycharm": {
     "name": "#%%\n"
    }
   },
   "outputs": [],
   "source": [
    "df = df[df[\"p36\"].isin([0, 1])]\n",
    "simplified = pd.DataFrame({\n",
    "    \"highway\": df[\"p36\"] == 0,\n",
    "    \"fatal\": df[\"p13a\"] > 0\n",
    "})"
   ]
  },
  {
   "cell_type": "markdown",
   "metadata": {
    "collapsed": false,
    "pycharm": {
     "name": "#%% md\n"
    }
   },
   "source": [
    "Vytvoříme si kontingenční tabulku"
   ]
  },
  {
   "cell_type": "code",
   "execution_count": null,
   "metadata": {
    "collapsed": false,
    "pycharm": {
     "name": "#%%\n"
    }
   },
   "outputs": [],
   "source": [
    "table = pd.crosstab(simplified[\"highway\"], simplified[\"fatal\"])\n",
    "table"
   ]
  },
  {
   "cell_type": "markdown",
   "metadata": {
    "collapsed": false,
    "pycharm": {
     "name": "#%% md\n"
    }
   },
   "source": [
    "Vypočteme p-hodnotu xi2 testu pro tuto tabulku pomocí `scipy`"
   ]
  },
  {
   "cell_type": "code",
   "execution_count": null,
   "metadata": {
    "collapsed": false,
    "pycharm": {
     "name": "#%%\n"
    }
   },
   "outputs": [],
   "source": [
    "stats = scipy.stats.chi2_contingency(table)\n",
    "pval = stats[1]\n",
    "print(\"p-hodnota:\", pval)"
   ]
  },
  {
   "cell_type": "markdown",
   "metadata": {
    "collapsed": false,
    "pycharm": {
     "name": "#%% md\n"
    }
   },
   "source": [
    "Vypočtená hodnota `3.6e-10` je výrazně menší, než hladina významnosti `0.05`, proto nulovou hypotézu zamítáme a můžeme prohlásit,\n",
    "že počet úmrtí *závisí* na třídě silnice a tedy že na silnicích první třídy se *neumíralo* se stejnou pravděpodobností jako na dálnicicích."
   ]
  },
  {
   "cell_type": "markdown",
   "metadata": {
    "collapsed": false,
    "pycharm": {
     "name": "#%% md\n"
    }
   },
   "source": [
    "Dále můžeme srovnat hodnoty z kontingeční tabulky výše s `expected` částí výstupu funkce `chi2_contingency`."
   ]
  },
  {
   "cell_type": "code",
   "execution_count": null,
   "metadata": {
    "collapsed": false,
    "pycharm": {
     "name": "#%%\n"
    }
   },
   "outputs": [],
   "source": [
    "stats[3]"
   ]
  },
  {
   "cell_type": "markdown",
   "metadata": {
    "collapsed": false,
    "pycharm": {
     "name": "#%% md\n"
    }
   },
   "source": [
    "Na první pohled vidíme, že reálné hodnoty u silnic 1. třídy jsou vyšší, než očekávané. Můžeme tedy říct, že nehody\n",
    "na silnicích 1. třídy *vedly* častěji k fatální nehodě."
   ]
  }
 ],
 "metadata": {
  "interpreter": {
   "hash": "121196956f15e67f7fa654e2ef0d807f3242048c412163ca913fb2e80cb85329"
  },
  "kernelspec": {
   "display_name": "Python 3.9.7 64-bit ('izv': conda)",
   "name": "python3"
  },
  "language_info": {
   "codemirror_mode": {
    "name": "ipython",
    "version": 3
   },
   "file_extension": ".py",
   "mimetype": "text/x-python",
   "name": "python",
   "nbconvert_exporter": "python",
   "pygments_lexer": "ipython3",
   "version": "3.9.7"
  }
 },
 "nbformat": 4,
 "nbformat_minor": 0
}
